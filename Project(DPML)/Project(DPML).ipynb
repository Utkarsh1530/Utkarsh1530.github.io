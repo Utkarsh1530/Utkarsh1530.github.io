{
 "cells": [
  {
   "cell_type": "markdown",
   "metadata": {},
   "source": [
    "# Importing libraries"
   ]
  },
  {
   "cell_type": "code",
   "execution_count": 1,
   "metadata": {
    "scrolled": true
   },
   "outputs": [],
   "source": [
    "from sklearn.model_selection import train_test_split\n",
    "from sklearn.preprocessing import StandardScaler\n",
    "from sklearn import metrics\n",
    "from sklearn.impute import SimpleImputer"
   ]
  },
  {
   "cell_type": "code",
   "execution_count": 2,
   "metadata": {},
   "outputs": [],
   "source": [
    "import numpy as np\n",
    "import matplotlib.pyplot as plt\n",
    "import pandas as pd\n",
    "import seaborn as sns"
   ]
  },
  {
   "cell_type": "code",
   "execution_count": 3,
   "metadata": {},
   "outputs": [
    {
     "name": "stdout",
     "output_type": "stream",
     "text": [
      "2.0.0-rc0\n"
     ]
    }
   ],
   "source": [
    "import tensorflow as tf\n",
    "from tensorflow import keras\n",
    "from tensorflow.keras import Sequential\n",
    "from tensorflow.keras.layers import Flatten, Dense, Dropout, BatchNormalization\n",
    "from tensorflow.keras.layers import Conv1D, MaxPool1D\n",
    "from tensorflow.keras.optimizers import Adam\n",
    "print(tf.__version__)"
   ]
  },
  {
   "cell_type": "markdown",
   "metadata": {},
   "source": [
    "# Importing Data"
   ]
  },
  {
   "cell_type": "code",
   "execution_count": 4,
   "metadata": {},
   "outputs": [],
   "source": [
    "dataset=pd.read_csv('Heart_Disease_Prediction.csv')\n",
    "X=dataset.iloc[:, :-1].values\n",
    "Y=dataset.iloc[:, -1].values"
   ]
  },
  {
   "cell_type": "code",
   "execution_count": 5,
   "metadata": {},
   "outputs": [
    {
     "name": "stdout",
     "output_type": "stream",
     "text": [
      "[[70.  1.  4. ...  2.  3.  3.]\n",
      " [67.  0.  3. ...  2.  0.  7.]\n",
      " [57.  1.  2. ...  1.  0.  7.]\n",
      " ...\n",
      " [56.  0.  2. ...  2.  0.  3.]\n",
      " [57.  1.  4. ...  2.  0.  6.]\n",
      " [67.  1.  4. ...  2.  3.  3.]]\n"
     ]
    }
   ],
   "source": [
    "print(X)"
   ]
  },
  {
   "cell_type": "code",
   "execution_count": 6,
   "metadata": {},
   "outputs": [
    {
     "name": "stdout",
     "output_type": "stream",
     "text": [
      "[1 0 1 0 0 0 1 1 1 1 0 0 0 1 0 0 1 1 0 0 1 0 0 0 0 0 0 0 1 0 1 0 0 1 1 1 1\n",
      " 1 0 0 1 0 0 0 1 0 1 1 1 1 1 0 0 0 0 0 1 0 1 1 0 1 0 0 0 1 0 1 0 1 1 0 0 0\n",
      " 0 1 0 0 0 0 1 1 1 0 0 0 0 0 0 1 0 1 1 1 1 1 0 1 0 0 0 1 0 1 1 1 0 1 1 0 1\n",
      " 0 1 0 0 0 1 1 0 1 1 1 1 0 0 0 1 0 0 1 1 1 0 1 0 0 0 1 0 0 1 0 1 0 1 1 1 1\n",
      " 1 0 0 0 0 0 0 0 1 0 0 1 1 1 0 1 0 0 0 0 0 1 0 1 1 0 0 1 1 1 1 0 0 1 1 0 0\n",
      " 0 1 0 0 1 0 1 0 1 0 0 0 0 0 1 0 1 1 1 1 0 0 0 1 0 1 0 0 1 0 0 0 0 0 0 1 1\n",
      " 0 1 0 0 1 1 0 0 1 1 0 1 0 1 0 1 0 0 1 0 0 1 0 1 1 0 1 1 1 0 1 0 0 0 0 1 1\n",
      " 0 0 1 1 0 1 0 0 0 0 1]\n"
     ]
    }
   ],
   "source": [
    "print(Y)"
   ]
  },
  {
   "cell_type": "markdown",
   "metadata": {},
   "source": [
    "# Taking care of missing data"
   ]
  },
  {
   "cell_type": "code",
   "execution_count": 7,
   "metadata": {},
   "outputs": [],
   "source": [
    "imputer=SimpleImputer(missing_values=np.nan, strategy='mean')\n",
    "imputer.fit(X[:, 1:-1])\n",
    "X[:, 1:-1]=imputer.transform(X[:, 1:-1])"
   ]
  },
  {
   "cell_type": "code",
   "execution_count": 8,
   "metadata": {},
   "outputs": [
    {
     "name": "stdout",
     "output_type": "stream",
     "text": [
      "[[70.  1.  4. ...  2.  3.  3.]\n",
      " [67.  0.  3. ...  2.  0.  7.]\n",
      " [57.  1.  2. ...  1.  0.  7.]\n",
      " ...\n",
      " [56.  0.  2. ...  2.  0.  3.]\n",
      " [57.  1.  4. ...  2.  0.  6.]\n",
      " [67.  1.  4. ...  2.  3.  3.]]\n"
     ]
    }
   ],
   "source": [
    "print(X)"
   ]
  },
  {
   "cell_type": "markdown",
   "metadata": {},
   "source": [
    "# Model (CNN)\n"
   ]
  },
  {
   "cell_type": "code",
   "execution_count": 9,
   "metadata": {},
   "outputs": [
    {
     "data": {
      "text/html": [
       "<div>\n",
       "<style scoped>\n",
       "    .dataframe tbody tr th:only-of-type {\n",
       "        vertical-align: middle;\n",
       "    }\n",
       "\n",
       "    .dataframe tbody tr th {\n",
       "        vertical-align: top;\n",
       "    }\n",
       "\n",
       "    .dataframe thead th {\n",
       "        text-align: right;\n",
       "    }\n",
       "</style>\n",
       "<table border=\"1\" class=\"dataframe\">\n",
       "  <thead>\n",
       "    <tr style=\"text-align: right;\">\n",
       "      <th></th>\n",
       "      <th>Age</th>\n",
       "      <th>Sex</th>\n",
       "      <th>Chest pain type</th>\n",
       "      <th>BP</th>\n",
       "      <th>Cholesterol</th>\n",
       "      <th>FBS over 120</th>\n",
       "      <th>EKG results</th>\n",
       "      <th>Max HR</th>\n",
       "      <th>Exercise angina</th>\n",
       "      <th>ST depression</th>\n",
       "      <th>Slope of ST</th>\n",
       "      <th>Number of vessels fluro</th>\n",
       "      <th>Thallium</th>\n",
       "      <th>Heart Disease</th>\n",
       "    </tr>\n",
       "  </thead>\n",
       "  <tbody>\n",
       "    <tr>\n",
       "      <th>0</th>\n",
       "      <td>70</td>\n",
       "      <td>1</td>\n",
       "      <td>4</td>\n",
       "      <td>130</td>\n",
       "      <td>322</td>\n",
       "      <td>0</td>\n",
       "      <td>2</td>\n",
       "      <td>109</td>\n",
       "      <td>0</td>\n",
       "      <td>2.4</td>\n",
       "      <td>2</td>\n",
       "      <td>3</td>\n",
       "      <td>3</td>\n",
       "      <td>1</td>\n",
       "    </tr>\n",
       "    <tr>\n",
       "      <th>1</th>\n",
       "      <td>67</td>\n",
       "      <td>0</td>\n",
       "      <td>3</td>\n",
       "      <td>115</td>\n",
       "      <td>564</td>\n",
       "      <td>0</td>\n",
       "      <td>2</td>\n",
       "      <td>160</td>\n",
       "      <td>0</td>\n",
       "      <td>1.6</td>\n",
       "      <td>2</td>\n",
       "      <td>0</td>\n",
       "      <td>7</td>\n",
       "      <td>0</td>\n",
       "    </tr>\n",
       "    <tr>\n",
       "      <th>2</th>\n",
       "      <td>57</td>\n",
       "      <td>1</td>\n",
       "      <td>2</td>\n",
       "      <td>124</td>\n",
       "      <td>261</td>\n",
       "      <td>0</td>\n",
       "      <td>0</td>\n",
       "      <td>141</td>\n",
       "      <td>0</td>\n",
       "      <td>0.3</td>\n",
       "      <td>1</td>\n",
       "      <td>0</td>\n",
       "      <td>7</td>\n",
       "      <td>1</td>\n",
       "    </tr>\n",
       "    <tr>\n",
       "      <th>3</th>\n",
       "      <td>64</td>\n",
       "      <td>1</td>\n",
       "      <td>4</td>\n",
       "      <td>128</td>\n",
       "      <td>263</td>\n",
       "      <td>0</td>\n",
       "      <td>0</td>\n",
       "      <td>105</td>\n",
       "      <td>1</td>\n",
       "      <td>0.2</td>\n",
       "      <td>2</td>\n",
       "      <td>1</td>\n",
       "      <td>7</td>\n",
       "      <td>0</td>\n",
       "    </tr>\n",
       "    <tr>\n",
       "      <th>4</th>\n",
       "      <td>74</td>\n",
       "      <td>0</td>\n",
       "      <td>2</td>\n",
       "      <td>120</td>\n",
       "      <td>269</td>\n",
       "      <td>0</td>\n",
       "      <td>2</td>\n",
       "      <td>121</td>\n",
       "      <td>1</td>\n",
       "      <td>0.2</td>\n",
       "      <td>1</td>\n",
       "      <td>1</td>\n",
       "      <td>3</td>\n",
       "      <td>0</td>\n",
       "    </tr>\n",
       "  </tbody>\n",
       "</table>\n",
       "</div>"
      ],
      "text/plain": [
       "   Age  Sex  Chest pain type   BP  Cholesterol  FBS over 120  EKG results  \\\n",
       "0   70    1                4  130          322             0            2   \n",
       "1   67    0                3  115          564             0            2   \n",
       "2   57    1                2  124          261             0            0   \n",
       "3   64    1                4  128          263             0            0   \n",
       "4   74    0                2  120          269             0            2   \n",
       "\n",
       "   Max HR  Exercise angina  ST depression  Slope of ST  \\\n",
       "0     109                0            2.4            2   \n",
       "1     160                0            1.6            2   \n",
       "2     141                0            0.3            1   \n",
       "3     105                1            0.2            2   \n",
       "4     121                1            0.2            1   \n",
       "\n",
       "   Number of vessels fluro  Thallium  Heart Disease  \n",
       "0                        3         3              1  \n",
       "1                        0         7              0  \n",
       "2                        0         7              1  \n",
       "3                        1         7              0  \n",
       "4                        1         3              0  "
      ]
     },
     "execution_count": 9,
     "metadata": {},
     "output_type": "execute_result"
    }
   ],
   "source": [
    "dataset.head()"
   ]
  },
  {
   "cell_type": "code",
   "execution_count": 10,
   "metadata": {},
   "outputs": [
    {
     "data": {
      "text/plain": [
       "(270, 13)"
      ]
     },
     "execution_count": 10,
     "metadata": {},
     "output_type": "execute_result"
    }
   ],
   "source": [
    "X.shape"
   ]
  },
  {
   "cell_type": "code",
   "execution_count": 11,
   "metadata": {},
   "outputs": [],
   "source": [
    "X_train, X_test, Y_train, Y_test= train_test_split(X, Y, test_size=0.2, random_state=0, stratify=Y)"
   ]
  },
  {
   "cell_type": "code",
   "execution_count": 12,
   "metadata": {},
   "outputs": [
    {
     "data": {
      "text/plain": [
       "(216, 13)"
      ]
     },
     "execution_count": 12,
     "metadata": {},
     "output_type": "execute_result"
    }
   ],
   "source": [
    "X_train.shape"
   ]
  },
  {
   "cell_type": "code",
   "execution_count": 13,
   "metadata": {},
   "outputs": [
    {
     "data": {
      "text/plain": [
       "(54, 13)"
      ]
     },
     "execution_count": 13,
     "metadata": {},
     "output_type": "execute_result"
    }
   ],
   "source": [
    "X_test.shape"
   ]
  },
  {
   "cell_type": "code",
   "execution_count": 14,
   "metadata": {},
   "outputs": [],
   "source": [
    "X_train= X_train.reshape(216,13,1)\n",
    "X_test= X_test.reshape(54,13,1)"
   ]
  },
  {
   "cell_type": "code",
   "execution_count": 15,
   "metadata": {},
   "outputs": [
    {
     "data": {
      "text/plain": [
       "array([[[57.],\n",
       "        [ 1.],\n",
       "        [ 3.],\n",
       "        ...,\n",
       "        [ 1.],\n",
       "        [ 0.],\n",
       "        [ 3.]],\n",
       "\n",
       "       [[59.],\n",
       "        [ 1.],\n",
       "        [ 4.],\n",
       "        ...,\n",
       "        [ 2.],\n",
       "        [ 0.],\n",
       "        [ 7.]],\n",
       "\n",
       "       [[66.],\n",
       "        [ 1.],\n",
       "        [ 4.],\n",
       "        ...,\n",
       "        [ 1.],\n",
       "        [ 1.],\n",
       "        [ 3.]],\n",
       "\n",
       "       ...,\n",
       "\n",
       "       [[47.],\n",
       "        [ 1.],\n",
       "        [ 4.],\n",
       "        ...,\n",
       "        [ 1.],\n",
       "        [ 0.],\n",
       "        [ 3.]],\n",
       "\n",
       "       [[57.],\n",
       "        [ 1.],\n",
       "        [ 3.],\n",
       "        ...,\n",
       "        [ 1.],\n",
       "        [ 1.],\n",
       "        [ 7.]],\n",
       "\n",
       "       [[63.],\n",
       "        [ 0.],\n",
       "        [ 3.],\n",
       "        ...,\n",
       "        [ 1.],\n",
       "        [ 0.],\n",
       "        [ 3.]]])"
      ]
     },
     "execution_count": 15,
     "metadata": {},
     "output_type": "execute_result"
    }
   ],
   "source": [
    "X_train"
   ]
  },
  {
   "cell_type": "code",
   "execution_count": 16,
   "metadata": {},
   "outputs": [],
   "source": [
    "epochs= 50\n",
    "model= Sequential()\n",
    "model.add(Conv1D(filters=32, kernel_size=2, activation='relu', input_shape=(13,1)))\n",
    "model.add(BatchNormalization())\n",
    "model.add(Dropout(0.2))\n",
    "\n",
    "model.add(Conv1D(filters=64, kernel_size=2, activation='relu', input_shape=(13,1)))\n",
    "model.add(BatchNormalization())\n",
    "model.add(Dropout(0.5))\n",
    "\n",
    "model.add(Flatten())\n",
    "model.add(Dense(64, activation='relu'))\n",
    "model.add(Dropout(0.5))\n",
    "\n",
    "model.add(Dense(1, activation='sigmoid'))"
   ]
  },
  {
   "cell_type": "code",
   "execution_count": 17,
   "metadata": {},
   "outputs": [
    {
     "name": "stdout",
     "output_type": "stream",
     "text": [
      "Model: \"sequential\"\n",
      "_________________________________________________________________\n",
      "Layer (type)                 Output Shape              Param #   \n",
      "=================================================================\n",
      "conv1d (Conv1D)              (None, 12, 32)            96        \n",
      "_________________________________________________________________\n",
      "batch_normalization (BatchNo (None, 12, 32)            128       \n",
      "_________________________________________________________________\n",
      "dropout (Dropout)            (None, 12, 32)            0         \n",
      "_________________________________________________________________\n",
      "conv1d_1 (Conv1D)            (None, 11, 64)            4160      \n",
      "_________________________________________________________________\n",
      "batch_normalization_1 (Batch (None, 11, 64)            256       \n",
      "_________________________________________________________________\n",
      "dropout_1 (Dropout)          (None, 11, 64)            0         \n",
      "_________________________________________________________________\n",
      "flatten (Flatten)            (None, 704)               0         \n",
      "_________________________________________________________________\n",
      "dense (Dense)                (None, 64)                45120     \n",
      "_________________________________________________________________\n",
      "dropout_2 (Dropout)          (None, 64)                0         \n",
      "_________________________________________________________________\n",
      "dense_1 (Dense)              (None, 1)                 65        \n",
      "=================================================================\n",
      "Total params: 49,825\n",
      "Trainable params: 49,633\n",
      "Non-trainable params: 192\n",
      "_________________________________________________________________\n"
     ]
    }
   ],
   "source": [
    "model.summary()"
   ]
  },
  {
   "cell_type": "code",
   "execution_count": 31,
   "metadata": {},
   "outputs": [],
   "source": [
    "model.compile(optimizer=Adam(lr=0.0005), loss='binary_crossentropy',metrics=['accuracy'])"
   ]
  },
  {
   "cell_type": "code",
   "execution_count": 32,
   "metadata": {},
   "outputs": [
    {
     "name": "stdout",
     "output_type": "stream",
     "text": [
      "Train on 216 samples, validate on 54 samples\n",
      "Epoch 1/50\n",
      "WARNING:tensorflow:Entity <function Function._initialize_uninitialized_variables.<locals>.initialize_variables at 0x0000016993F58288> could not be transformed and will be executed as-is. Please report this to the AutoGraph team. When filing the bug, set the verbosity to 10 (on Linux, `export AUTOGRAPH_VERBOSITY=10`) and attach the full output. Cause: module 'gast' has no attribute 'Index'\n",
      "WARNING: Entity <function Function._initialize_uninitialized_variables.<locals>.initialize_variables at 0x0000016993F58288> could not be transformed and will be executed as-is. Please report this to the AutoGraph team. When filing the bug, set the verbosity to 10 (on Linux, `export AUTOGRAPH_VERBOSITY=10`) and attach the full output. Cause: module 'gast' has no attribute 'Index'\n",
      "216/216 [==============================] - 2s 8ms/sample - loss: 0.6778 - accuracy: 0.5694 - val_loss: 0.6688 - val_accuracy: 0.7222\n",
      "Epoch 2/50\n",
      "216/216 [==============================] - 0s 378us/sample - loss: 0.6483 - accuracy: 0.6065 - val_loss: 0.6540 - val_accuracy: 0.6852\n",
      "Epoch 3/50\n",
      "216/216 [==============================] - 0s 266us/sample - loss: 0.6824 - accuracy: 0.5972 - val_loss: 0.6558 - val_accuracy: 0.7407\n",
      "Epoch 4/50\n",
      "216/216 [==============================] - 0s 262us/sample - loss: 0.6926 - accuracy: 0.5926 - val_loss: 0.6491 - val_accuracy: 0.7407\n",
      "Epoch 5/50\n",
      "216/216 [==============================] - 0s 306us/sample - loss: 0.6453 - accuracy: 0.6528 - val_loss: 0.6388 - val_accuracy: 0.8148\n",
      "Epoch 6/50\n",
      "216/216 [==============================] - 0s 300us/sample - loss: 0.6592 - accuracy: 0.5694 - val_loss: 0.6327 - val_accuracy: 0.7778\n",
      "Epoch 7/50\n",
      "216/216 [==============================] - 0s 298us/sample - loss: 0.6922 - accuracy: 0.6111 - val_loss: 0.6319 - val_accuracy: 0.7963\n",
      "Epoch 8/50\n",
      "216/216 [==============================] - 0s 305us/sample - loss: 0.6638 - accuracy: 0.5880 - val_loss: 0.6328 - val_accuracy: 0.7778\n",
      "Epoch 9/50\n",
      "216/216 [==============================] - 0s 298us/sample - loss: 0.6562 - accuracy: 0.6713 - val_loss: 0.6309 - val_accuracy: 0.7407\n",
      "Epoch 10/50\n",
      "216/216 [==============================] - 0s 299us/sample - loss: 0.6806 - accuracy: 0.5694 - val_loss: 0.6291 - val_accuracy: 0.7593\n",
      "Epoch 11/50\n",
      "216/216 [==============================] - 0s 299us/sample - loss: 0.6765 - accuracy: 0.5880 - val_loss: 0.6311 - val_accuracy: 0.7963\n",
      "Epoch 12/50\n",
      "216/216 [==============================] - 0s 304us/sample - loss: 0.6463 - accuracy: 0.6111 - val_loss: 0.6357 - val_accuracy: 0.7778\n",
      "Epoch 13/50\n",
      "216/216 [==============================] - 0s 295us/sample - loss: 0.6488 - accuracy: 0.6574 - val_loss: 0.6324 - val_accuracy: 0.7778\n",
      "Epoch 14/50\n",
      "216/216 [==============================] - 0s 306us/sample - loss: 0.6831 - accuracy: 0.6250 - val_loss: 0.6295 - val_accuracy: 0.7778\n",
      "Epoch 15/50\n",
      "216/216 [==============================] - 0s 296us/sample - loss: 0.6661 - accuracy: 0.6111 - val_loss: 0.6253 - val_accuracy: 0.7963\n",
      "Epoch 16/50\n",
      "216/216 [==============================] - 0s 290us/sample - loss: 0.6332 - accuracy: 0.6667 - val_loss: 0.6227 - val_accuracy: 0.7778\n",
      "Epoch 17/50\n",
      "216/216 [==============================] - 0s 297us/sample - loss: 0.6369 - accuracy: 0.6435 - val_loss: 0.6207 - val_accuracy: 0.7778\n",
      "Epoch 18/50\n",
      "216/216 [==============================] - 0s 309us/sample - loss: 0.6803 - accuracy: 0.5880 - val_loss: 0.6211 - val_accuracy: 0.7778\n",
      "Epoch 19/50\n",
      "216/216 [==============================] - 0s 300us/sample - loss: 0.6344 - accuracy: 0.6343 - val_loss: 0.6163 - val_accuracy: 0.7778\n",
      "Epoch 20/50\n",
      "216/216 [==============================] - 0s 296us/sample - loss: 0.6673 - accuracy: 0.5972 - val_loss: 0.6171 - val_accuracy: 0.7037\n",
      "Epoch 21/50\n",
      "216/216 [==============================] - 0s 305us/sample - loss: 0.6556 - accuracy: 0.6204 - val_loss: 0.6167 - val_accuracy: 0.7037\n",
      "Epoch 22/50\n",
      "216/216 [==============================] - 0s 305us/sample - loss: 0.6579 - accuracy: 0.6157 - val_loss: 0.6102 - val_accuracy: 0.7593\n",
      "Epoch 23/50\n",
      "216/216 [==============================] - 0s 305us/sample - loss: 0.6417 - accuracy: 0.6343 - val_loss: 0.5974 - val_accuracy: 0.7593\n",
      "Epoch 24/50\n",
      "216/216 [==============================] - 0s 309us/sample - loss: 0.6069 - accuracy: 0.6620 - val_loss: 0.5876 - val_accuracy: 0.7593\n",
      "Epoch 25/50\n",
      "216/216 [==============================] - 0s 308us/sample - loss: 0.6308 - accuracy: 0.6806 - val_loss: 0.6005 - val_accuracy: 0.7037\n",
      "Epoch 26/50\n",
      "216/216 [==============================] - 0s 269us/sample - loss: 0.6728 - accuracy: 0.6296 - val_loss: 0.6219 - val_accuracy: 0.7037\n",
      "Epoch 27/50\n",
      "216/216 [==============================] - 0s 300us/sample - loss: 0.6170 - accuracy: 0.6389 - val_loss: 0.6337 - val_accuracy: 0.6481\n",
      "Epoch 28/50\n",
      "216/216 [==============================] - 0s 305us/sample - loss: 0.6256 - accuracy: 0.6389 - val_loss: 0.6220 - val_accuracy: 0.7037\n",
      "Epoch 29/50\n",
      "216/216 [==============================] - 0s 300us/sample - loss: 0.6478 - accuracy: 0.6667 - val_loss: 0.6041 - val_accuracy: 0.6667\n",
      "Epoch 30/50\n",
      "216/216 [==============================] - 0s 332us/sample - loss: 0.6458 - accuracy: 0.6343 - val_loss: 0.5926 - val_accuracy: 0.7222\n",
      "Epoch 31/50\n",
      "216/216 [==============================] - 0s 268us/sample - loss: 0.5656 - accuracy: 0.7130 - val_loss: 0.5909 - val_accuracy: 0.7037\n",
      "Epoch 32/50\n",
      "216/216 [==============================] - 0s 273us/sample - loss: 0.5542 - accuracy: 0.7269 - val_loss: 0.6155 - val_accuracy: 0.7037\n",
      "Epoch 33/50\n",
      "216/216 [==============================] - 0s 374us/sample - loss: 0.5933 - accuracy: 0.6806 - val_loss: 0.6541 - val_accuracy: 0.5185\n",
      "Epoch 34/50\n",
      "216/216 [==============================] - 0s 337us/sample - loss: 0.5471 - accuracy: 0.7269 - val_loss: 0.5896 - val_accuracy: 0.7222\n",
      "Epoch 35/50\n",
      "216/216 [==============================] - 0s 288us/sample - loss: 0.5920 - accuracy: 0.6759 - val_loss: 0.6036 - val_accuracy: 0.6852\n",
      "Epoch 36/50\n",
      "216/216 [==============================] - 0s 364us/sample - loss: 0.5338 - accuracy: 0.7407 - val_loss: 0.6957 - val_accuracy: 0.4630\n",
      "Epoch 37/50\n",
      "216/216 [==============================] - 0s 651us/sample - loss: 0.5639 - accuracy: 0.6852 - val_loss: 0.7484 - val_accuracy: 0.4444\n",
      "Epoch 38/50\n",
      "216/216 [==============================] - 0s 554us/sample - loss: 0.5475 - accuracy: 0.7222 - val_loss: 0.6368 - val_accuracy: 0.6111\n",
      "Epoch 39/50\n",
      "216/216 [==============================] - 0s 565us/sample - loss: 0.5699 - accuracy: 0.7176 - val_loss: 0.6029 - val_accuracy: 0.6852\n",
      "Epoch 40/50\n",
      "216/216 [==============================] - 0s 623us/sample - loss: 0.6058 - accuracy: 0.6944 - val_loss: 0.6422 - val_accuracy: 0.5926\n",
      "Epoch 41/50\n",
      "216/216 [==============================] - 0s 402us/sample - loss: 0.5602 - accuracy: 0.7500 - val_loss: 0.7206 - val_accuracy: 0.4630\n",
      "Epoch 42/50\n",
      "216/216 [==============================] - 0s 360us/sample - loss: 0.5953 - accuracy: 0.6852 - val_loss: 0.6775 - val_accuracy: 0.4630\n",
      "Epoch 43/50\n",
      "216/216 [==============================] - 0s 300us/sample - loss: 0.5745 - accuracy: 0.7315 - val_loss: 0.6307 - val_accuracy: 0.5370\n",
      "Epoch 44/50\n",
      "216/216 [==============================] - 0s 605us/sample - loss: 0.5889 - accuracy: 0.6759 - val_loss: 0.7034 - val_accuracy: 0.4630\n",
      "Epoch 45/50\n",
      "216/216 [==============================] - 0s 614us/sample - loss: 0.5538 - accuracy: 0.7454 - val_loss: 0.6715 - val_accuracy: 0.4630\n",
      "Epoch 46/50\n",
      "216/216 [==============================] - 0s 503us/sample - loss: 0.5702 - accuracy: 0.7269 - val_loss: 0.5794 - val_accuracy: 0.7222\n",
      "Epoch 47/50\n",
      "216/216 [==============================] - 0s 536us/sample - loss: 0.5267 - accuracy: 0.7454 - val_loss: 0.6072 - val_accuracy: 0.6852\n",
      "Epoch 48/50\n",
      "216/216 [==============================] - 0s 374us/sample - loss: 0.5261 - accuracy: 0.7361 - val_loss: 0.6857 - val_accuracy: 0.4630\n",
      "Epoch 49/50\n",
      "216/216 [==============================] - 0s 272us/sample - loss: 0.4815 - accuracy: 0.8102 - val_loss: 0.8113 - val_accuracy: 0.4444\n",
      "Epoch 50/50\n",
      "216/216 [==============================] - 0s 296us/sample - loss: 0.5341 - accuracy: 0.7546 - val_loss: 0.7093 - val_accuracy: 0.4630\n"
     ]
    }
   ],
   "source": [
    "history=model.fit(X_train,Y_train,epochs=epochs, validation_data=(X_test, Y_test),verbose=1)"
   ]
  },
  {
   "cell_type": "markdown",
   "metadata": {},
   "source": [
    "# Graphs"
   ]
  },
  {
   "cell_type": "code",
   "execution_count": 20,
   "metadata": {},
   "outputs": [],
   "source": [
    "def plot_learningCurve(history, epoch):\n",
    "    #Accuracy\n",
    "    epoch_range= range(1, epoch+1)\n",
    "    plt.plot(epoch_range, history.history['accuracy'])\n",
    "    plt.plot(epoch_range, history.history['val_accuracy'])\n",
    "    plt.title('Model accuracy')\n",
    "    plt.ylabel('Accuracy')\n",
    "    plt.xlabel('Epoch')\n",
    "    plt.legend(['Train','val'], loc='upper left')\n",
    "    plt.show()\n",
    "    \n",
    "    #Loss\n",
    "    plt.plot(epoch_range, history.history['loss'])\n",
    "    plt.plot(epoch_range, history.history['val_loss'])\n",
    "    plt.title('Model loss')\n",
    "    plt.ylabel('Loss')\n",
    "    plt.xlabel('Epoch')\n",
    "    plt.legend(['Train','val'], loc='upper left')\n",
    "    plt.show()\n",
    "    "
   ]
  },
  {
   "cell_type": "code",
   "execution_count": 33,
   "metadata": {},
   "outputs": [
    {
     "data": {
      "image/png": "[encoded data removed]",
      "text/plain": [
       "<Figure size 432x288 with 1 Axes>"
      ]
     },
     "metadata": {
      "needs_background": "light"
     },
     "output_type": "display_data"
    },
    {
     "data": {
      "image/png": "[encoded data removed]",
      "text/plain": [
       "<Figure size 432x288 with 1 Axes>"
      ]
     },
     "metadata": {
      "needs_background": "light"
     },
     "output_type": "display_data"
    }
   ],
   "source": [
    "plot_learningCurve(history, epochs)"
   ]
  },
  {
   "cell_type": "code",
   "execution_count": null,
   "metadata": {},
   "outputs": [],
   "source": []
  }
 ],
 "metadata": {
  "kernelspec": {
   "display_name": "Python 3",
   "language": "python",
   "name": "python3"
  },
  "language_info": {
   "codemirror_mode": {
    "name": "ipython",
    "version": 3
   },
   "file_extension": ".py",
   "mimetype": "text/x-python",
   "name": "python",
   "nbconvert_exporter": "python",
   "pygments_lexer": "ipython3",
   "version": "3.7.6"
  }
 },
 "nbformat": 4,
 "nbformat_minor": 4
}
